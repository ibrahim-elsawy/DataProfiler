{
 "cells": [
  {
   "cell_type": "code",
   "execution_count": 2,
   "metadata": {},
   "outputs": [],
   "source": [
    "from configparser import ConfigParser\n",
    "\n",
    "\n",
    "config = ConfigParser()\n",
    "config.read('../config.ini')\n",
    "db_path = config['DB']['dir']\n"
   ]
  },
  {
   "cell_type": "code",
   "execution_count": 6,
   "metadata": {},
   "outputs": [
    {
     "data": {
      "text/plain": [
       "'./attendance.db'"
      ]
     },
     "execution_count": 6,
     "metadata": {},
     "output_type": "execute_result"
    }
   ],
   "source": [
    "config['DB']['dir']"
   ]
  },
  {
   "cell_type": "code",
   "execution_count": 1,
   "metadata": {},
   "outputs": [],
   "source": [
    "import pandas as pd\n",
    "# df = pd.read_excel('../data/test.xlsx', 'Football')\n",
    "df = pd.read_excel('../data/test.xlsx',sheet_name=None)"
   ]
  },
  {
   "cell_type": "code",
   "execution_count": 3,
   "metadata": {},
   "outputs": [
    {
     "name": "stdout",
     "output_type": "stream",
     "text": [
      "SalesOrders\n",
      "Football\n"
     ]
    }
   ],
   "source": [
    "for i in df:\n",
    "    print(i)"
   ]
  },
  {
   "cell_type": "code",
   "execution_count": 4,
   "metadata": {},
   "outputs": [],
   "source": [
    "from typing import Any\n",
    "\n",
    "\n",
    "class execfile:\n",
    "\tdef __init__(self, filepath:str) -> None:\n",
    "\t\tself.df = pd.read_excel(filepath, sheet_name=None)\n",
    "\tdef __call__(self, *args: Any, **kwds: Any) -> Any:\n",
    "\t\tprint('hello')\n",
    "\tdef run(self):\n",
    "\t\tfor sheetName in df:\n",
    "\t\t\tdf_sheet = df.get(sheetName)\n",
    "\t\t\tdf_sheet.dtypes\n",
    "\t\t\tfor colName, dataType in zip(df_sheet, df_sheet.dtypes):\n",
    "\t\t\t\tprint(f'{colName} ----> {dataType} ----> {type(df_sheet[colName].to_numpy())}')"
   ]
  },
  {
   "cell_type": "code",
   "execution_count": 5,
   "metadata": {},
   "outputs": [
    {
     "name": "stdout",
     "output_type": "stream",
     "text": [
      "OrderDate ----> datetime64[ns] ----> <class 'numpy.ndarray'>\n",
      "Region ----> object ----> <class 'numpy.ndarray'>\n",
      "Rep ----> object ----> <class 'numpy.ndarray'>\n",
      "Item ----> object ----> <class 'numpy.ndarray'>\n",
      "Units ----> int64 ----> <class 'numpy.ndarray'>\n",
      "Unit Cost ----> float64 ----> <class 'numpy.ndarray'>\n",
      "Total ----> float64 ----> <class 'numpy.ndarray'>\n",
      "Year ----> int64 ----> <class 'numpy.ndarray'>\n",
      "Team ----> object ----> <class 'numpy.ndarray'>\n",
      "NAME  ----> object ----> <class 'numpy.ndarray'>\n",
      "No. ----> float64 ----> <class 'numpy.ndarray'>\n",
      "Pos ----> object ----> <class 'numpy.ndarray'>\n",
      "Ht ----> object ----> <class 'numpy.ndarray'>\n",
      "Wt ----> int64 ----> <class 'numpy.ndarray'>\n",
      "Age ----> float64 ----> <class 'numpy.ndarray'>\n",
      "Exp ----> object ----> <class 'numpy.ndarray'>\n",
      "College ----> object ----> <class 'numpy.ndarray'>\n",
      "FirstName ----> object ----> <class 'numpy.ndarray'>\n",
      "LastName ----> object ----> <class 'numpy.ndarray'>\n",
      "Ft ----> int64 ----> <class 'numpy.ndarray'>\n",
      "In ----> int64 ----> <class 'numpy.ndarray'>\n",
      "Inches ----> int64 ----> <class 'numpy.ndarray'>\n"
     ]
    }
   ],
   "source": [
    "execfile('../data/test.xlsx').run()"
   ]
  },
  {
   "cell_type": "code",
   "execution_count": 9,
   "metadata": {},
   "outputs": [],
   "source": [
    "import pyodbc\n",
    "\n",
    "# Specifying the ODBC driver, server name, database, etc. directly\n",
    "cnxn = pyodbc.connect('DRIVER={ODBC Driver 17 for SQL Server};SERVER=localhost;DATABASE=master;UID=SA;PWD=Ibrahimelsawy834@')\n",
    "\n",
    "# Using a DSN, but providing a password as well\n",
    "# cnxn = pyodbc.connect('DSN=test;PWD=password')\n",
    "\n",
    "# Create a cursor from the connection\n",
    "cursor = cnxn.cursor()"
   ]
  },
  {
   "cell_type": "code",
   "execution_count": 14,
   "metadata": {},
   "outputs": [
    {
     "name": "stdout",
     "output_type": "stream",
     "text": [
      "<class 'str'>\n",
      "<class 'pyodbc.Row'>\n"
     ]
    },
    {
     "data": {
      "text/plain": [
       "(datetime.date(2021, 1, 6), 'East', 'Jones', 'Pencil', 5, Decimal('1.99'), Decimal('89.05'))"
      ]
     },
     "execution_count": 14,
     "metadata": {},
     "output_type": "execute_result"
    }
   ],
   "source": [
    "cursor.execute(\"select * from sample\")\n",
    "row = cursor.fetchone()\n",
    "if row: \n",
    "\tprint(type(row.region))\n",
    "\tprint(type(row))"
   ]
  },
  {
   "cell_type": "code",
   "execution_count": 40,
   "metadata": {},
   "outputs": [
    {
     "name": "stdout",
     "output_type": "stream",
     "text": [
      "order_date ---> date ---> <class 'numpy.ndarray'> ---> 2021-01-06\n",
      "region ---> nvarchar ---> <class 'numpy.ndarray'> ---> East\n",
      "rep ---> nvarchar ---> <class 'numpy.ndarray'> ---> Jones\n",
      "item ---> nvarchar ---> <class 'numpy.ndarray'> ---> Pencil\n",
      "units ---> int ---> <class 'numpy.ndarray'> ---> 5\n",
      "unit_cost ---> decimal ---> <class 'numpy.ndarray'> ---> 1.99\n",
      "cost ---> decimal ---> <class 'numpy.ndarray'> ---> 89.05\n"
     ]
    }
   ],
   "source": [
    "import numpy as np\n",
    "cursor.execute(\"select * from sample\")\n",
    "rows = cursor.fetchall()\n",
    "cursor.execute('''SELECT *\n",
    "FROM INFORMATION_SCHEMA.COLUMNS\n",
    "WHERE TABLE_NAME = N'sample'\n",
    "''')\n",
    "columnNames = cursor.fetchall()\n",
    "colArr = np.array(rows)\n",
    "for colIndex, colName in enumerate(columnNames):\n",
    "    print(f'{colName.COLUMN_NAME} ---> {colName.DATA_TYPE} ---> {type(colArr[:,colIndex])} ---> {colArr[:,colIndex][0]}')"
   ]
  },
  {
   "cell_type": "code",
   "execution_count": 27,
   "metadata": {},
   "outputs": [
    {
     "data": {
      "text/plain": [
       "'East'"
      ]
     },
     "execution_count": 27,
     "metadata": {},
     "output_type": "execute_result"
    }
   ],
   "source": [
    "arr = np.array(rows)\n",
    "arr[0][1]"
   ]
  },
  {
   "cell_type": "code",
   "execution_count": 26,
   "metadata": {},
   "outputs": [
    {
     "data": {
      "text/plain": [
       "(3, 7)"
      ]
     },
     "execution_count": 26,
     "metadata": {},
     "output_type": "execute_result"
    }
   ],
   "source": [
    "arr.shape"
   ]
  },
  {
   "cell_type": "code",
   "execution_count": 33,
   "metadata": {},
   "outputs": [
    {
     "data": {
      "text/plain": [
       "'East'"
      ]
     },
     "execution_count": 33,
     "metadata": {},
     "output_type": "execute_result"
    }
   ],
   "source": [
    "arr[:,1]"
   ]
  },
  {
   "cell_type": "code",
   "execution_count": 39,
   "metadata": {},
   "outputs": [
    {
     "name": "stdout",
     "output_type": "stream",
     "text": [
      "order_date -----> date\n",
      "region -----> nvarchar\n",
      "rep -----> nvarchar\n",
      "item -----> nvarchar\n",
      "units -----> int\n",
      "unit_cost -----> decimal\n",
      "cost -----> decimal\n"
     ]
    }
   ],
   "source": [
    "for c in columnNames:\n",
    "\tprint(f'{c.COLUMN_NAME} -----> {c.DATA_TYPE}')"
   ]
  },
  {
   "cell_type": "code",
   "execution_count": 4,
   "metadata": {},
   "outputs": [],
   "source": [
    "import numpy as np\n",
    "import pandas as pd\n",
    "from ydata_profiling import ProfileReport\n",
    "\n",
    "# df = pd.DataFrame(np.random.rand(100, 5), columns=[\"a\", \"b\", \"c\", \"d\", \"e\"])\n",
    "\n",
    "profile = ProfileReport(df, title=\"Pandas Profiling Report\")"
   ]
  },
  {
   "cell_type": "code",
   "execution_count": 5,
   "metadata": {},
   "outputs": [
    {
     "data": {
      "application/vnd.jupyter.widget-view+json": {
       "model_id": "5bd5bba7c7aa4bf3abda7552b87fc468",
       "version_major": 2,
       "version_minor": 0
      },
      "text/plain": [
       "Summarize dataset:   0%|          | 0/5 [00:00<?, ?it/s]"
      ]
     },
     "metadata": {},
     "output_type": "display_data"
    },
    {
     "data": {
      "application/vnd.jupyter.widget-view+json": {
       "model_id": "fc0d612fc548481f9f5f85df9c52fffc",
       "version_major": 2,
       "version_minor": 0
      },
      "text/plain": [
       "Generate report structure:   0%|          | 0/1 [00:00<?, ?it/s]"
      ]
     },
     "metadata": {},
     "output_type": "display_data"
    },
    {
     "data": {
      "application/vnd.jupyter.widget-view+json": {
       "model_id": "c7b1f85b839146ffb6626c7e8e75d88b",
       "version_major": 2,
       "version_minor": 0
      },
      "text/plain": [
       "Render widgets:   0%|          | 0/1 [00:00<?, ?it/s]"
      ]
     },
     "metadata": {},
     "output_type": "display_data"
    },
    {
     "data": {
      "application/vnd.jupyter.widget-view+json": {
       "model_id": "32001a36a3414e48a128d33a870ea396",
       "version_major": 2,
       "version_minor": 0
      },
      "text/plain": [
       "VBox(children=(Tab(children=(Tab(children=(GridBox(children=(VBox(children=(GridspecLayout(children=(HTML(valu…"
      ]
     },
     "metadata": {},
     "output_type": "display_data"
    }
   ],
   "source": [
    "profile.to_widgets()"
   ]
  }
 ],
 "metadata": {
  "kernelspec": {
   "display_name": "env",
   "language": "python",
   "name": "python3"
  },
  "language_info": {
   "codemirror_mode": {
    "name": "ipython",
    "version": 3
   },
   "file_extension": ".py",
   "mimetype": "text/x-python",
   "name": "python",
   "nbconvert_exporter": "python",
   "pygments_lexer": "ipython3",
   "version": "3.8.3"
  },
  "orig_nbformat": 4
 },
 "nbformat": 4,
 "nbformat_minor": 2
}
